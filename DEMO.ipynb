{
 "cells": [
  {
   "cell_type": "code",
   "execution_count": 1,
   "id": "ab97147a",
   "metadata": {},
   "outputs": [
    {
     "name": "stderr",
     "output_type": "stream",
     "text": [
      "/home/usuario/.local/lib/python3.8/site-packages/sklearn/externals/joblib/__init__.py:15: FutureWarning: sklearn.externals.joblib is deprecated in 0.21 and will be removed in 0.23. Please import this functionality directly from joblib, which can be installed with: pip install joblib. If this warning is raised when loading pickled models, you may need to re-serialize those models with scikit-learn 0.21+.\n",
      "  warnings.warn(msg, category=FutureWarning)\n"
     ]
    }
   ],
   "source": [
    "from WebScrapping.Twint import TwintScrapper\n",
    "from DataProcessing.NLP import NLP\n",
    "from DataVisualization.GraphGenerator import GraphGenerator\n",
    "import nest_asyncio\n",
    "nest_asyncio.apply()"
   ]
  },
  {
   "cell_type": "code",
   "execution_count": 2,
   "id": "7773b049",
   "metadata": {},
   "outputs": [],
   "source": [
    "# Create a Twint Scrapper object\n",
    "# Currently if we run the file MainScrapping.py it gives an error with dates, currently looking how to fix it\n",
    "\n",
    "scrapper = TwintScrapper()"
   ]
  },
  {
   "cell_type": "code",
   "execution_count": 3,
   "id": "7a10f0c7",
   "metadata": {},
   "outputs": [],
   "source": [
    "# Define our search parameters\n",
    "user = \"Max33Verstappen\"\n",
    "start_date = \"2021-07-01\"\n",
    "end_sate = \"2021-07-15\""
   ]
  },
  {
   "cell_type": "code",
   "execution_count": 4,
   "id": "7d44a112",
   "metadata": {},
   "outputs": [
    {
     "name": "stdout",
     "output_type": "stream",
     "text": [
      "[!] No more data! Scraping will stop now.\n",
      "found 0 deleted tweets in this search.\n"
     ]
    },
    {
     "data": {
      "text/html": [
       "<div>\n",
       "<style scoped>\n",
       "    .dataframe tbody tr th:only-of-type {\n",
       "        vertical-align: middle;\n",
       "    }\n",
       "\n",
       "    .dataframe tbody tr th {\n",
       "        vertical-align: top;\n",
       "    }\n",
       "\n",
       "    .dataframe thead th {\n",
       "        text-align: right;\n",
       "    }\n",
       "</style>\n",
       "<table border=\"1\" class=\"dataframe\">\n",
       "  <thead>\n",
       "    <tr style=\"text-align: right;\">\n",
       "      <th></th>\n",
       "      <th>id</th>\n",
       "      <th>conversation_id</th>\n",
       "      <th>date</th>\n",
       "      <th>tweet</th>\n",
       "      <th>nretweets</th>\n",
       "      <th>nlikes</th>\n",
       "      <th>nreplies</th>\n",
       "    </tr>\n",
       "  </thead>\n",
       "  <tbody>\n",
       "    <tr>\n",
       "      <th>0</th>\n",
       "      <td>1415328851027283969</td>\n",
       "      <td>1415328851027283969</td>\n",
       "      <td>2021-07-14 10:14:28</td>\n",
       "      <td>Heading into a weekend at Silverstone that pro...</td>\n",
       "      <td>648</td>\n",
       "      <td>16721</td>\n",
       "      <td>113</td>\n",
       "    </tr>\n",
       "    <tr>\n",
       "      <th>1</th>\n",
       "      <td>1414864523471859718</td>\n",
       "      <td>1414864523471859718</td>\n",
       "      <td>2021-07-13 03:29:23</td>\n",
       "      <td>Coming soon</td>\n",
       "      <td>193</td>\n",
       "      <td>5445</td>\n",
       "      <td>39</td>\n",
       "    </tr>\n",
       "    <tr>\n",
       "      <th>2</th>\n",
       "      <td>1411715933790511108</td>\n",
       "      <td>1411715933790511108</td>\n",
       "      <td>2021-07-04 10:58:01</td>\n",
       "      <td>What an incredible win! 🔥 Simply an amazing jo...</td>\n",
       "      <td>4035</td>\n",
       "      <td>44839</td>\n",
       "      <td>596</td>\n",
       "    </tr>\n",
       "    <tr>\n",
       "      <th>3</th>\n",
       "      <td>1411601875732942849</td>\n",
       "      <td>1411601875732942849</td>\n",
       "      <td>2021-07-04 03:24:48</td>\n",
       "      <td>Focus &amp;amp; Full Send for R A C E D A Y 🦁 #Unl...</td>\n",
       "      <td>578</td>\n",
       "      <td>11655</td>\n",
       "      <td>163</td>\n",
       "    </tr>\n",
       "    <tr>\n",
       "      <th>4</th>\n",
       "      <td>1411344431752650754</td>\n",
       "      <td>1411344431752650754</td>\n",
       "      <td>2021-07-03 10:21:48</td>\n",
       "      <td>P1 🔥 It was a bit too close for comfort, as it...</td>\n",
       "      <td>2121</td>\n",
       "      <td>32985</td>\n",
       "      <td>351</td>\n",
       "    </tr>\n",
       "    <tr>\n",
       "      <th>5</th>\n",
       "      <td>1411252818913202179</td>\n",
       "      <td>1411252818913202179</td>\n",
       "      <td>2021-07-03 04:17:46</td>\n",
       "      <td>Q U A L I D A Y 💪 Looks like it will be tight ...</td>\n",
       "      <td>540</td>\n",
       "      <td>11923</td>\n",
       "      <td>156</td>\n",
       "    </tr>\n",
       "    <tr>\n",
       "      <th>6</th>\n",
       "      <td>1410990220938448901</td>\n",
       "      <td>1410990220938448901</td>\n",
       "      <td>2021-07-02 10:54:18</td>\n",
       "      <td>We had a decent start of the weekend, I felt g...</td>\n",
       "      <td>577</td>\n",
       "      <td>14717</td>\n",
       "      <td>108</td>\n",
       "    </tr>\n",
       "    <tr>\n",
       "      <th>7</th>\n",
       "      <td>1410883108547829760</td>\n",
       "      <td>1410883108547829760</td>\n",
       "      <td>2021-07-02 03:48:40</td>\n",
       "      <td>Back at the Red Bull Ring! But it will be a ne...</td>\n",
       "      <td>548</td>\n",
       "      <td>11949</td>\n",
       "      <td>132</td>\n",
       "    </tr>\n",
       "    <tr>\n",
       "      <th>8</th>\n",
       "      <td>1410609423148453892</td>\n",
       "      <td>1410604169031942150</td>\n",
       "      <td>2021-07-01 09:41:08</td>\n",
       "      <td>@brrrake Redbull what else mate c’mon 🤷🏻‍♂️🤷🏻‍♂️😎</td>\n",
       "      <td>100</td>\n",
       "      <td>3059</td>\n",
       "      <td>44</td>\n",
       "    </tr>\n",
       "  </tbody>\n",
       "</table>\n",
       "</div>"
      ],
      "text/plain": [
       "                    id      conversation_id                 date  \\\n",
       "0  1415328851027283969  1415328851027283969  2021-07-14 10:14:28   \n",
       "1  1414864523471859718  1414864523471859718  2021-07-13 03:29:23   \n",
       "2  1411715933790511108  1411715933790511108  2021-07-04 10:58:01   \n",
       "3  1411601875732942849  1411601875732942849  2021-07-04 03:24:48   \n",
       "4  1411344431752650754  1411344431752650754  2021-07-03 10:21:48   \n",
       "5  1411252818913202179  1411252818913202179  2021-07-03 04:17:46   \n",
       "6  1410990220938448901  1410990220938448901  2021-07-02 10:54:18   \n",
       "7  1410883108547829760  1410883108547829760  2021-07-02 03:48:40   \n",
       "8  1410609423148453892  1410604169031942150  2021-07-01 09:41:08   \n",
       "\n",
       "                                               tweet  nretweets  nlikes  \\\n",
       "0  Heading into a weekend at Silverstone that pro...        648   16721   \n",
       "1                                        Coming soon        193    5445   \n",
       "2  What an incredible win! 🔥 Simply an amazing jo...       4035   44839   \n",
       "3  Focus &amp; Full Send for R A C E D A Y 🦁 #Unl...        578   11655   \n",
       "4  P1 🔥 It was a bit too close for comfort, as it...       2121   32985   \n",
       "5  Q U A L I D A Y 💪 Looks like it will be tight ...        540   11923   \n",
       "6  We had a decent start of the weekend, I felt g...        577   14717   \n",
       "7  Back at the Red Bull Ring! But it will be a ne...        548   11949   \n",
       "8  @brrrake Redbull what else mate c’mon 🤷🏻‍♂️🤷🏻‍♂️😎        100    3059   \n",
       "\n",
       "   nreplies  \n",
       "0       113  \n",
       "1        39  \n",
       "2       596  \n",
       "3       163  \n",
       "4       351  \n",
       "5       156  \n",
       "6       108  \n",
       "7       132  \n",
       "8        44  "
      ]
     },
     "execution_count": 4,
     "metadata": {},
     "output_type": "execute_result"
    }
   ],
   "source": [
    "# Create post Data Frame\n",
    "MV_posts = scrapper.search_user_posts(user, start_date, end_sate, False)\n",
    "MV_posts.head(10)"
   ]
  },
  {
   "cell_type": "code",
   "execution_count": 5,
   "id": "4714d1f5",
   "metadata": {},
   "outputs": [
    {
     "name": "stdout",
     "output_type": "stream",
     "text": [
      "[!] No more data! Scraping will stop now.\n",
      "found 0 deleted tweets in this search.\n"
     ]
    }
   ],
   "source": [
    "# Create replies Data Frame\n",
    "MV_replies = scrapper.search_replies_to(user, start_date, end_sate, False, \"\")"
   ]
  },
  {
   "cell_type": "code",
   "execution_count": 6,
   "id": "8b9835e4",
   "metadata": {},
   "outputs": [
    {
     "data": {
      "text/html": [
       "<div>\n",
       "<style scoped>\n",
       "    .dataframe tbody tr th:only-of-type {\n",
       "        vertical-align: middle;\n",
       "    }\n",
       "\n",
       "    .dataframe tbody tr th {\n",
       "        vertical-align: top;\n",
       "    }\n",
       "\n",
       "    .dataframe thead th {\n",
       "        text-align: right;\n",
       "    }\n",
       "</style>\n",
       "<table border=\"1\" class=\"dataframe\">\n",
       "  <thead>\n",
       "    <tr style=\"text-align: right;\">\n",
       "      <th></th>\n",
       "      <th>conversation_id</th>\n",
       "      <th>tweet</th>\n",
       "      <th>name</th>\n",
       "    </tr>\n",
       "  </thead>\n",
       "  <tbody>\n",
       "    <tr>\n",
       "      <th>0</th>\n",
       "      <td>1415328851027283969</td>\n",
       "      <td>@Max33Verstappen @redbullracing Vamos ser camp...</td>\n",
       "      <td>Edu Correia</td>\n",
       "    </tr>\n",
       "    <tr>\n",
       "      <th>1</th>\n",
       "      <td>1415328851027283969</td>\n",
       "      <td>@Max33Verstappen @redbullracing The new qualif...</td>\n",
       "      <td>Louise Morgan</td>\n",
       "    </tr>\n",
       "    <tr>\n",
       "      <th>2</th>\n",
       "      <td>1415328851027283969</td>\n",
       "      <td>@Max33Verstappen @redbullracing Own that fraud...</td>\n",
       "      <td>tax evasion expert 🇸🇴</td>\n",
       "    </tr>\n",
       "    <tr>\n",
       "      <th>3</th>\n",
       "      <td>1415328851027283969</td>\n",
       "      <td>@Max33Verstappen @redbullracing Push to be cen...</td>\n",
       "      <td>Harbie</td>\n",
       "    </tr>\n",
       "    <tr>\n",
       "      <th>4</th>\n",
       "      <td>1415328851027283969</td>\n",
       "      <td>@Max33Verstappen @redbullracing Exacto  https:...</td>\n",
       "      <td>RICAORDOR</td>\n",
       "    </tr>\n",
       "    <tr>\n",
       "      <th>5</th>\n",
       "      <td>1415328851027283969</td>\n",
       "      <td>@Max33Verstappen @redbullracing Me after seein...</td>\n",
       "      <td>🆁🅰🅼🅸🆃🅰🆂 🅳🅴 🆀🆄🅴🆂🅾</td>\n",
       "    </tr>\n",
       "    <tr>\n",
       "      <th>6</th>\n",
       "      <td>1415328851027283969</td>\n",
       "      <td>@Max33Verstappen @redbullracing Is that a Merc...</td>\n",
       "      <td>Alax</td>\n",
       "    </tr>\n",
       "    <tr>\n",
       "      <th>7</th>\n",
       "      <td>1415328851027283969</td>\n",
       "      <td>@Max33Verstappen @redbullracing 1. Pole 1. Fin...</td>\n",
       "      <td>A J</td>\n",
       "    </tr>\n",
       "    <tr>\n",
       "      <th>8</th>\n",
       "      <td>1415328851027283969</td>\n",
       "      <td>@Max33Verstappen @redbullracing Go get them ag...</td>\n",
       "      <td>FanOfTech</td>\n",
       "    </tr>\n",
       "    <tr>\n",
       "      <th>9</th>\n",
       "      <td>1415328851027283969</td>\n",
       "      <td>@Max33Verstappen @redbullracing Go for it Max💪...</td>\n",
       "      <td>Corrine Dokter</td>\n",
       "    </tr>\n",
       "  </tbody>\n",
       "</table>\n",
       "</div>"
      ],
      "text/plain": [
       "       conversation_id                                              tweet  \\\n",
       "0  1415328851027283969  @Max33Verstappen @redbullracing Vamos ser camp...   \n",
       "1  1415328851027283969  @Max33Verstappen @redbullracing The new qualif...   \n",
       "2  1415328851027283969  @Max33Verstappen @redbullracing Own that fraud...   \n",
       "3  1415328851027283969  @Max33Verstappen @redbullracing Push to be cen...   \n",
       "4  1415328851027283969  @Max33Verstappen @redbullracing Exacto  https:...   \n",
       "5  1415328851027283969  @Max33Verstappen @redbullracing Me after seein...   \n",
       "6  1415328851027283969  @Max33Verstappen @redbullracing Is that a Merc...   \n",
       "7  1415328851027283969  @Max33Verstappen @redbullracing 1. Pole 1. Fin...   \n",
       "8  1415328851027283969  @Max33Verstappen @redbullracing Go get them ag...   \n",
       "9  1415328851027283969  @Max33Verstappen @redbullracing Go for it Max💪...   \n",
       "\n",
       "                    name  \n",
       "0            Edu Correia  \n",
       "1          Louise Morgan  \n",
       "2  tax evasion expert 🇸🇴  \n",
       "3                 Harbie  \n",
       "4              RICAORDOR  \n",
       "5       🆁🅰🅼🅸🆃🅰🆂 🅳🅴 🆀🆄🅴🆂🅾  \n",
       "6                   Alax  \n",
       "7                    A J  \n",
       "8              FanOfTech  \n",
       "9         Corrine Dokter  "
      ]
     },
     "execution_count": 6,
     "metadata": {},
     "output_type": "execute_result"
    }
   ],
   "source": [
    "MV_replies.head(10)"
   ]
  },
  {
   "cell_type": "code",
   "execution_count": 7,
   "id": "09b0207b",
   "metadata": {},
   "outputs": [
    {
     "name": "stdout",
     "output_type": "stream",
     "text": [
      "<class 'pandas.core.frame.DataFrame'>\n",
      "RangeIndex: 2304 entries, 0 to 2303\n",
      "Data columns (total 3 columns):\n",
      " #   Column           Non-Null Count  Dtype \n",
      "---  ------           --------------  ----- \n",
      " 0   conversation_id  2304 non-null   object\n",
      " 1   tweet            2304 non-null   object\n",
      " 2   name             2304 non-null   object\n",
      "dtypes: object(3)\n",
      "memory usage: 54.1+ KB\n"
     ]
    }
   ],
   "source": [
    "MV_replies.info()"
   ]
  },
  {
   "cell_type": "code",
   "execution_count": 8,
   "id": "f51181b2",
   "metadata": {},
   "outputs": [],
   "source": [
    "# Now we are going to 'normalize' our Data Frames"
   ]
  },
  {
   "cell_type": "code",
   "execution_count": 9,
   "id": "e6e25678",
   "metadata": {},
   "outputs": [
    {
     "data": {
      "text/html": [
       "<div>\n",
       "<style scoped>\n",
       "    .dataframe tbody tr th:only-of-type {\n",
       "        vertical-align: middle;\n",
       "    }\n",
       "\n",
       "    .dataframe tbody tr th {\n",
       "        vertical-align: top;\n",
       "    }\n",
       "\n",
       "    .dataframe thead th {\n",
       "        text-align: right;\n",
       "    }\n",
       "</style>\n",
       "<table border=\"1\" class=\"dataframe\">\n",
       "  <thead>\n",
       "    <tr style=\"text-align: right;\">\n",
       "      <th></th>\n",
       "      <th>conversation_id</th>\n",
       "      <th>tweet</th>\n",
       "      <th>name</th>\n",
       "      <th>gender</th>\n",
       "      <th>sentiment</th>\n",
       "    </tr>\n",
       "  </thead>\n",
       "  <tbody>\n",
       "    <tr>\n",
       "      <th>0</th>\n",
       "      <td>1415328851027283969</td>\n",
       "      <td>Vamos ser campeão Max.</td>\n",
       "      <td>Edu Correia</td>\n",
       "      <td>unknown</td>\n",
       "      <td>Neutral</td>\n",
       "    </tr>\n",
       "    <tr>\n",
       "      <th>1</th>\n",
       "      <td>1415328851027283969</td>\n",
       "      <td>The new qualifying format for the British GP...</td>\n",
       "      <td>Louise Morgan</td>\n",
       "      <td>female</td>\n",
       "      <td>Positive</td>\n",
       "    </tr>\n",
       "    <tr>\n",
       "      <th>2</th>\n",
       "      <td>1415328851027283969</td>\n",
       "      <td>Own that fraud Lewis</td>\n",
       "      <td>tax evasion expert 🇸🇴</td>\n",
       "      <td>unknown</td>\n",
       "      <td>Positive</td>\n",
       "    </tr>\n",
       "    <tr>\n",
       "      <th>3</th>\n",
       "      <td>1415328851027283969</td>\n",
       "      <td>Push to be center of podium 💪💪💪💪💪</td>\n",
       "      <td>Harbie</td>\n",
       "      <td>unknown</td>\n",
       "      <td>Negative</td>\n",
       "    </tr>\n",
       "    <tr>\n",
       "      <th>4</th>\n",
       "      <td>1415328851027283969</td>\n",
       "      <td>Exacto</td>\n",
       "      <td>RICAORDOR</td>\n",
       "      <td>unknown</td>\n",
       "      <td>Neutral</td>\n",
       "    </tr>\n",
       "    <tr>\n",
       "      <th>...</th>\n",
       "      <td>...</td>\n",
       "      <td>...</td>\n",
       "      <td>...</td>\n",
       "      <td>...</td>\n",
       "      <td>...</td>\n",
       "    </tr>\n",
       "    <tr>\n",
       "      <th>2299</th>\n",
       "      <td>1410152129571008512</td>\n",
       "      <td>Gostoso</td>\n",
       "      <td>csbl</td>\n",
       "      <td>unknown</td>\n",
       "      <td>Neutral</td>\n",
       "    </tr>\n",
       "    <tr>\n",
       "      <th>2300</th>\n",
       "      <td>1410152129571008512</td>\n",
       "      <td>Necesito la mía, la puedes enviar??</td>\n",
       "      <td>Igor Herrera</td>\n",
       "      <td>male</td>\n",
       "      <td>Neutral</td>\n",
       "    </tr>\n",
       "    <tr>\n",
       "      <th>2301</th>\n",
       "      <td>1410152129571008512</td>\n",
       "      <td>Como consigo esse agasalho</td>\n",
       "      <td>Wesley Tavares</td>\n",
       "      <td>male</td>\n",
       "      <td>Neutral</td>\n",
       "    </tr>\n",
       "    <tr>\n",
       "      <th>2302</th>\n",
       "      <td>1410152129571008512</td>\n",
       "      <td>Checo caps 🧢 please</td>\n",
       "      <td>Hector Huerta</td>\n",
       "      <td>male</td>\n",
       "      <td>Neutral</td>\n",
       "    </tr>\n",
       "    <tr>\n",
       "      <th>2303</th>\n",
       "      <td>1410397106460717058</td>\n",
       "      <td></td>\n",
       "      <td>crows on the march :-) 100 per cent vaccinated...</td>\n",
       "      <td>unknown</td>\n",
       "      <td>Neutral</td>\n",
       "    </tr>\n",
       "  </tbody>\n",
       "</table>\n",
       "<p>2304 rows × 5 columns</p>\n",
       "</div>"
      ],
      "text/plain": [
       "          conversation_id                                              tweet  \\\n",
       "0     1415328851027283969                             Vamos ser campeão Max.   \n",
       "1     1415328851027283969    The new qualifying format for the British GP...   \n",
       "2     1415328851027283969                               Own that fraud Lewis   \n",
       "3     1415328851027283969                  Push to be center of podium 💪💪💪💪💪   \n",
       "4     1415328851027283969                                           Exacto     \n",
       "...                   ...                                                ...   \n",
       "2299  1410152129571008512                                            Gostoso   \n",
       "2300  1410152129571008512                Necesito la mía, la puedes enviar??   \n",
       "2301  1410152129571008512                         Como consigo esse agasalho   \n",
       "2302  1410152129571008512                                Checo caps 🧢 please   \n",
       "2303  1410397106460717058                                                      \n",
       "\n",
       "                                                   name   gender sentiment  \n",
       "0                                           Edu Correia  unknown   Neutral  \n",
       "1                                         Louise Morgan   female  Positive  \n",
       "2                                 tax evasion expert 🇸🇴  unknown  Positive  \n",
       "3                                                Harbie  unknown  Negative  \n",
       "4                                             RICAORDOR  unknown   Neutral  \n",
       "...                                                 ...      ...       ...  \n",
       "2299                                               csbl  unknown   Neutral  \n",
       "2300                                       Igor Herrera     male   Neutral  \n",
       "2301                                     Wesley Tavares     male   Neutral  \n",
       "2302                                      Hector Huerta     male   Neutral  \n",
       "2303  crows on the march :-) 100 per cent vaccinated...  unknown   Neutral  \n",
       "\n",
       "[2304 rows x 5 columns]"
      ]
     },
     "execution_count": 9,
     "metadata": {},
     "output_type": "execute_result"
    }
   ],
   "source": [
    "scrapper.clean_df_replies(MV_replies)\n",
    "MV_replies"
   ]
  },
  {
   "cell_type": "code",
   "execution_count": 10,
   "id": "e1d5f593",
   "metadata": {},
   "outputs": [
    {
     "data": {
      "text/html": [
       "<div>\n",
       "<style scoped>\n",
       "    .dataframe tbody tr th:only-of-type {\n",
       "        vertical-align: middle;\n",
       "    }\n",
       "\n",
       "    .dataframe tbody tr th {\n",
       "        vertical-align: top;\n",
       "    }\n",
       "\n",
       "    .dataframe thead th {\n",
       "        text-align: right;\n",
       "    }\n",
       "</style>\n",
       "<table border=\"1\" class=\"dataframe\">\n",
       "  <thead>\n",
       "    <tr style=\"text-align: right;\">\n",
       "      <th></th>\n",
       "      <th>id</th>\n",
       "      <th>conversation_id</th>\n",
       "      <th>date</th>\n",
       "      <th>tweet</th>\n",
       "      <th>nretweets</th>\n",
       "      <th>nlikes</th>\n",
       "      <th>nreplies</th>\n",
       "      <th>males_count</th>\n",
       "      <th>females_count</th>\n",
       "      <th>unknown_count</th>\n",
       "      <th>positives_com</th>\n",
       "      <th>negatives_com</th>\n",
       "      <th>neutral_com</th>\n",
       "      <th>coef_acceptation</th>\n",
       "    </tr>\n",
       "  </thead>\n",
       "  <tbody>\n",
       "    <tr>\n",
       "      <th>0</th>\n",
       "      <td>1415328851027283969</td>\n",
       "      <td>1415328851027283969</td>\n",
       "      <td>2021-07-14 10:14:28</td>\n",
       "      <td>Heading into a weekend at Silverstone that pro...</td>\n",
       "      <td>648</td>\n",
       "      <td>16721</td>\n",
       "      <td>113</td>\n",
       "      <td>19</td>\n",
       "      <td>9</td>\n",
       "      <td>46</td>\n",
       "      <td>23</td>\n",
       "      <td>4</td>\n",
       "      <td>31</td>\n",
       "      <td>0.0</td>\n",
       "    </tr>\n",
       "    <tr>\n",
       "      <th>1</th>\n",
       "      <td>1414864523471859718</td>\n",
       "      <td>1414864523471859718</td>\n",
       "      <td>2021-07-13 03:29:23</td>\n",
       "      <td>Coming soon</td>\n",
       "      <td>193</td>\n",
       "      <td>5445</td>\n",
       "      <td>39</td>\n",
       "      <td>5</td>\n",
       "      <td>4</td>\n",
       "      <td>20</td>\n",
       "      <td>11</td>\n",
       "      <td>2</td>\n",
       "      <td>31</td>\n",
       "      <td>0.0</td>\n",
       "    </tr>\n",
       "    <tr>\n",
       "      <th>2</th>\n",
       "      <td>1411715933790511108</td>\n",
       "      <td>1411715933790511108</td>\n",
       "      <td>2021-07-04 10:58:01</td>\n",
       "      <td>What an incredible win! 🔥 Simply an amazing jo...</td>\n",
       "      <td>4035</td>\n",
       "      <td>44839</td>\n",
       "      <td>596</td>\n",
       "      <td>169</td>\n",
       "      <td>61</td>\n",
       "      <td>300</td>\n",
       "      <td>239</td>\n",
       "      <td>10</td>\n",
       "      <td>31</td>\n",
       "      <td>0.0</td>\n",
       "    </tr>\n",
       "    <tr>\n",
       "      <th>3</th>\n",
       "      <td>1411601875732942849</td>\n",
       "      <td>1411601875732942849</td>\n",
       "      <td>2021-07-04 03:24:48</td>\n",
       "      <td>Focus &amp;amp; Full Send for R A C E D A Y 🦁 #Unl...</td>\n",
       "      <td>578</td>\n",
       "      <td>11655</td>\n",
       "      <td>163</td>\n",
       "      <td>47</td>\n",
       "      <td>17</td>\n",
       "      <td>85</td>\n",
       "      <td>53</td>\n",
       "      <td>6</td>\n",
       "      <td>31</td>\n",
       "      <td>0.0</td>\n",
       "    </tr>\n",
       "    <tr>\n",
       "      <th>4</th>\n",
       "      <td>1411344431752650754</td>\n",
       "      <td>1411344431752650754</td>\n",
       "      <td>2021-07-03 10:21:48</td>\n",
       "      <td>P1 🔥 It was a bit too close for comfort, as it...</td>\n",
       "      <td>2121</td>\n",
       "      <td>32985</td>\n",
       "      <td>351</td>\n",
       "      <td>85</td>\n",
       "      <td>37</td>\n",
       "      <td>186</td>\n",
       "      <td>114</td>\n",
       "      <td>11</td>\n",
       "      <td>31</td>\n",
       "      <td>0.0</td>\n",
       "    </tr>\n",
       "  </tbody>\n",
       "</table>\n",
       "</div>"
      ],
      "text/plain": [
       "                    id      conversation_id                date  \\\n",
       "0  1415328851027283969  1415328851027283969 2021-07-14 10:14:28   \n",
       "1  1414864523471859718  1414864523471859718 2021-07-13 03:29:23   \n",
       "2  1411715933790511108  1411715933790511108 2021-07-04 10:58:01   \n",
       "3  1411601875732942849  1411601875732942849 2021-07-04 03:24:48   \n",
       "4  1411344431752650754  1411344431752650754 2021-07-03 10:21:48   \n",
       "\n",
       "                                               tweet  nretweets  nlikes  \\\n",
       "0  Heading into a weekend at Silverstone that pro...        648   16721   \n",
       "1                                        Coming soon        193    5445   \n",
       "2  What an incredible win! 🔥 Simply an amazing jo...       4035   44839   \n",
       "3  Focus &amp; Full Send for R A C E D A Y 🦁 #Unl...        578   11655   \n",
       "4  P1 🔥 It was a bit too close for comfort, as it...       2121   32985   \n",
       "\n",
       "   nreplies  males_count  females_count  unknown_count  positives_com  \\\n",
       "0       113           19              9             46             23   \n",
       "1        39            5              4             20             11   \n",
       "2       596          169             61            300            239   \n",
       "3       163           47             17             85             53   \n",
       "4       351           85             37            186            114   \n",
       "\n",
       "   negatives_com  neutral_com  coef_acceptation  \n",
       "0              4           31               0.0  \n",
       "1              2           31               0.0  \n",
       "2             10           31               0.0  \n",
       "3              6           31               0.0  \n",
       "4             11           31               0.0  "
      ]
     },
     "execution_count": 10,
     "metadata": {},
     "output_type": "execute_result"
    }
   ],
   "source": [
    "scrapper.clean_df_posts(MV_posts, MV_replies)\n",
    "MV_posts.head()"
   ]
  },
  {
   "cell_type": "code",
   "execution_count": 11,
   "id": "3a370add",
   "metadata": {},
   "outputs": [],
   "source": [
    "# We're just going to plot how many Neutral, Positive and Negative comments are\n",
    "graphGenerator = GraphGenerator()"
   ]
  },
  {
   "cell_type": "code",
   "execution_count": 12,
   "id": "44674f92",
   "metadata": {},
   "outputs": [],
   "source": [
    "import pandas as pd"
   ]
  },
  {
   "cell_type": "code",
   "execution_count": 13,
   "id": "f4dcfe5a",
   "metadata": {},
   "outputs": [],
   "source": [
    "sentiment_comments = pd.DataFrame(MV_replies['sentiment'].value_counts())\n",
    "comments = ['Neutral', 'Positve', 'Negative']\n",
    "values = list(sentiment_comments['sentiment'])"
   ]
  },
  {
   "cell_type": "code",
   "execution_count": 14,
   "id": "fa33ab6b",
   "metadata": {},
   "outputs": [
    {
     "data": {
      "image/png": "[encoded data removed]",
      "text/plain": [
       "<Figure size 1440x720 with 1 Axes>"
      ]
     },
     "metadata": {
      "needs_background": "light"
     },
     "output_type": "display_data"
    }
   ],
   "source": [
    "graphGenerator.genera_grafica_barras(comments, values, \"Type of comments and quantities\", \"Type of comments\", \"Number of comments\")"
   ]
  },
  {
   "cell_type": "code",
   "execution_count": 15,
   "id": "42e45417",
   "metadata": {},
   "outputs": [
    {
     "name": "stdout",
     "output_type": "stream",
     "text": [
      "{'re', 'of', 'now', \"couldn't\", 'be', 'nor', 'not', 'an', 'through', 'does', 'in', \"weren't\", 'i', 'under', 'themselves', 'didn', \"mightn't\", 'd', \"that'll\", 'did', 'but', 'own', 'me', 'further', 'again', \"should've\", 'who', 'my', \"shan't\", 'your', 'y', 'out', \"you're\", 'or', 'other', 'such', 'no', 'its', 'between', 'aren', \"won't\", \"aren't\", 'we', 'ourselves', 'if', 'this', 'while', 'isn', 'why', 'off', 't', \"didn't\", 'both', 'weren', 'so', 'ours', 's', 'before', 've', \"needn't\", 'his', 'she', 'where', 'too', 'can', 'a', 'herself', 'until', 'being', 'they', 'itself', 'with', 'few', 'over', 'down', 'about', 'him', 'has', 'more', \"you'll\", 'up', 'couldn', 'wouldn', 'myself', 'whom', 'are', 'you', 'from', 'haven', 'it', 'all', 'don', 'yours', 'each', 'her', 'on', 'below', 'have', 'shouldn', 'been', 'm', 'for', 'hadn', 'then', \"haven't\", 'most', 'them', 'as', 'is', 'because', 'should', 'shan', 'needn', \"you've\", 'our', 'here', 'o', \"she's\", 'any', 'ain', 'theirs', 'their', \"shouldn't\", 'once', 'mightn', 'mustn', 'wasn', 'doing', \"mustn't\", 'which', 'when', 'having', 'the', 'had', 'at', 'that', 'these', 'ma', 'do', 'there', 'some', 'to', 'am', 'doesn', 'hasn', 'above', 'won', 'than', 'what', \"isn't\", 'after', 'by', 'yourself', 'hers', 'yourselves', \"wouldn't\", 'only', 'how', 'during', 'against', 'into', \"hasn't\", 'he', \"it's\", 'very', \"wasn't\", 'and', 'will', 'same', 'just', 'was', 'were', \"doesn't\", \"hadn't\", 'himself', \"you'd\", 'those', \"don't\", 'll'}\n"
     ]
    }
   ],
   "source": [
    "# Now we are going to see wich are the most frequent words in the comments\n",
    "nlp_processor = NLP('english')"
   ]
  },
  {
   "cell_type": "code",
   "execution_count": 22,
   "id": "2ac6790d",
   "metadata": {},
   "outputs": [
    {
     "data": {
      "text/plain": [
       "FreqDist({'max': 296, 'win': 80, 'race': 69, 'congratul': 67, 'de': 61, 'congrat': 60, 'go': 55, 'love': 49, 'great': 44, 'good': 41, ...})"
      ]
     },
     "execution_count": 22,
     "metadata": {},
     "output_type": "execute_result"
    }
   ],
   "source": [
    "words_frequency = nlp_processor.top_frequent_words_in_replies(MV_replies, 1000)\n",
    "words_frequency"
   ]
  },
  {
   "cell_type": "code",
   "execution_count": 19,
   "id": "557ac221",
   "metadata": {},
   "outputs": [
    {
     "data": {
      "image/png": "[encoded data removed]",
      "text/plain": [
       "<Figure size 432x288 with 1 Axes>"
      ]
     },
     "metadata": {
      "needs_background": "light"
     },
     "output_type": "display_data"
    },
    {
     "data": {
      "text/plain": [
       "<AxesSubplot:xlabel='Samples', ylabel='Counts'>"
      ]
     },
     "execution_count": 19,
     "metadata": {},
     "output_type": "execute_result"
    }
   ],
   "source": [
    "words_frequency.plot(20)"
   ]
  },
  {
   "cell_type": "code",
   "execution_count": null,
   "id": "e59435e0",
   "metadata": {},
   "outputs": [],
   "source": []
  }
 ],
 "metadata": {
  "kernelspec": {
   "display_name": "Python 3",
   "language": "python",
   "name": "python3"
  },
  "language_info": {
   "codemirror_mode": {
    "name": "ipython",
    "version": 3
   },
   "file_extension": ".py",
   "mimetype": "text/x-python",
   "name": "python",
   "nbconvert_exporter": "python",
   "pygments_lexer": "ipython3",
   "version": "3.8.10"
  }
 },
 "nbformat": 4,
 "nbformat_minor": 5
}
