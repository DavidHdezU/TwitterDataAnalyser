{
 "cells": [
  {
   "cell_type": "code",
   "execution_count": 1,
   "id": "ab97147a",
   "metadata": {},
   "outputs": [
    {
     "name": "stderr",
     "output_type": "stream",
     "text": [
      "/home/usuario/.local/lib/python3.8/site-packages/sklearn/externals/joblib/__init__.py:15: FutureWarning: sklearn.externals.joblib is deprecated in 0.21 and will be removed in 0.23. Please import this functionality directly from joblib, which can be installed with: pip install joblib. If this warning is raised when loading pickled models, you may need to re-serialize those models with scikit-learn 0.21+.\n",
      "  warnings.warn(msg, category=FutureWarning)\n"
     ]
    }
   ],
   "source": [
    "from WebScrapping.Twint import TwintScrapper\n",
    "from DataProcessing.NLP import NLP\n",
    "from DataVisualization.GraphGenerator import GraphGenerator\n",
    "import nest_asyncio\n",
    "nest_asyncio.apply()"
   ]
  },
  {
   "cell_type": "markdown",
   "id": "c58a1404",
   "metadata": {},
   "source": [
    "## This Notebook is to demostrate how the MainHanddler.py file would work, the problems is that when you run it from the terminal it gives an error that has to be with the Date format, but here works just fine."
   ]
  },
  {
   "cell_type": "code",
   "execution_count": 2,
   "id": "7773b049",
   "metadata": {},
   "outputs": [],
   "source": [
    "# Create a Twint Scrapper object\n",
    "# Currently if we run the file MainScrapping.py it gives an error with dates, currently looking how to fix it\n",
    "\n",
    "scrapper = TwintScrapper()"
   ]
  },
  {
   "cell_type": "code",
   "execution_count": 3,
   "id": "7a10f0c7",
   "metadata": {},
   "outputs": [],
   "source": [
    "# Define our search parameters\n",
    "user = \"POTUS\"\n",
    "start_date = \"2021-08-01\"\n",
    "end_sate = \"2021-08-04\""
   ]
  },
  {
   "cell_type": "markdown",
   "id": "df80d822",
   "metadata": {},
   "source": [
    "### First we're going to fetch data from the posts and replies"
   ]
  },
  {
   "cell_type": "code",
   "execution_count": 4,
   "id": "7d44a112",
   "metadata": {},
   "outputs": [
    {
     "name": "stdout",
     "output_type": "stream",
     "text": [
      "[!] No more data! Scraping will stop now.\n",
      "found 0 deleted tweets in this search.\n"
     ]
    },
    {
     "data": {
      "text/html": [
       "<div>\n",
       "<style scoped>\n",
       "    .dataframe tbody tr th:only-of-type {\n",
       "        vertical-align: middle;\n",
       "    }\n",
       "\n",
       "    .dataframe tbody tr th {\n",
       "        vertical-align: top;\n",
       "    }\n",
       "\n",
       "    .dataframe thead th {\n",
       "        text-align: right;\n",
       "    }\n",
       "</style>\n",
       "<table border=\"1\" class=\"dataframe\">\n",
       "  <thead>\n",
       "    <tr style=\"text-align: right;\">\n",
       "      <th></th>\n",
       "      <th>id</th>\n",
       "      <th>conversation_id</th>\n",
       "      <th>date</th>\n",
       "      <th>tweet</th>\n",
       "      <th>nretweets</th>\n",
       "      <th>nlikes</th>\n",
       "      <th>nreplies</th>\n",
       "    </tr>\n",
       "  </thead>\n",
       "  <tbody>\n",
       "    <tr>\n",
       "      <th>0</th>\n",
       "      <td>1422708314991910912</td>\n",
       "      <td>1422708314991910912</td>\n",
       "      <td>2021-08-03 18:57:49</td>\n",
       "      <td>Better roads and a faster, smoother, safer com...</td>\n",
       "      <td>1316</td>\n",
       "      <td>8485</td>\n",
       "      <td>1067</td>\n",
       "    </tr>\n",
       "    <tr>\n",
       "      <th>1</th>\n",
       "      <td>1422702063025336321</td>\n",
       "      <td>1422702063025336321</td>\n",
       "      <td>2021-08-03 18:32:59</td>\n",
       "      <td>This afternoon, the Vice President and I met w...</td>\n",
       "      <td>1396</td>\n",
       "      <td>9923</td>\n",
       "      <td>1171</td>\n",
       "    </tr>\n",
       "    <tr>\n",
       "      <th>2</th>\n",
       "      <td>1422694251247374343</td>\n",
       "      <td>1422694251247374343</td>\n",
       "      <td>2021-08-03 18:01:56</td>\n",
       "      <td>We’re doing everything we can to get more peop...</td>\n",
       "      <td>3329</td>\n",
       "      <td>27466</td>\n",
       "      <td>1768</td>\n",
       "    </tr>\n",
       "    <tr>\n",
       "      <th>3</th>\n",
       "      <td>1422660761797763073</td>\n",
       "      <td>1422660761797763073</td>\n",
       "      <td>2021-08-03 15:48:52</td>\n",
       "      <td>Right now, too many people are dying — or watc...</td>\n",
       "      <td>9646</td>\n",
       "      <td>60228</td>\n",
       "      <td>3283</td>\n",
       "    </tr>\n",
       "    <tr>\n",
       "      <th>4</th>\n",
       "      <td>1422656015514939404</td>\n",
       "      <td>1422656015514939404</td>\n",
       "      <td>2021-08-03 15:30:00</td>\n",
       "      <td>Tune in as I give an update on our progress to...</td>\n",
       "      <td>748</td>\n",
       "      <td>3791</td>\n",
       "      <td>750</td>\n",
       "    </tr>\n",
       "    <tr>\n",
       "      <th>5</th>\n",
       "      <td>1422631978554245124</td>\n",
       "      <td>1422631978554245124</td>\n",
       "      <td>2021-08-03 13:54:29</td>\n",
       "      <td>It’s no secret that I love Amtrak. It’s one of...</td>\n",
       "      <td>2981</td>\n",
       "      <td>21345</td>\n",
       "      <td>1433</td>\n",
       "    </tr>\n",
       "    <tr>\n",
       "      <th>6</th>\n",
       "      <td>1422613028676177927</td>\n",
       "      <td>1422613028676177927</td>\n",
       "      <td>2021-08-03 12:39:11</td>\n",
       "      <td>This Black Women’s Equal Pay Day, we must reco...</td>\n",
       "      <td>2147</td>\n",
       "      <td>10191</td>\n",
       "      <td>1415</td>\n",
       "    </tr>\n",
       "    <tr>\n",
       "      <th>7</th>\n",
       "      <td>1422587817453133824</td>\n",
       "      <td>1422587817453133824</td>\n",
       "      <td>2021-08-03 10:59:00</td>\n",
       "      <td>Americans shouldn’t be losing hours of their l...</td>\n",
       "      <td>4611</td>\n",
       "      <td>50099</td>\n",
       "      <td>2446</td>\n",
       "    </tr>\n",
       "    <tr>\n",
       "      <th>8</th>\n",
       "      <td>1422573712033910786</td>\n",
       "      <td>1422573712033910786</td>\n",
       "      <td>2021-08-03 10:02:57</td>\n",
       "      <td>To the families of the 23 souls lost two years...</td>\n",
       "      <td>1542</td>\n",
       "      <td>8905</td>\n",
       "      <td>574</td>\n",
       "    </tr>\n",
       "    <tr>\n",
       "      <th>9</th>\n",
       "      <td>1422550181166387201</td>\n",
       "      <td>1422550181166387201</td>\n",
       "      <td>2021-08-03 08:29:27</td>\n",
       "      <td>When the United States Capitol and our very de...</td>\n",
       "      <td>5575</td>\n",
       "      <td>43072</td>\n",
       "      <td>1906</td>\n",
       "    </tr>\n",
       "  </tbody>\n",
       "</table>\n",
       "</div>"
      ],
      "text/plain": [
       "                    id      conversation_id                 date  \\\n",
       "0  1422708314991910912  1422708314991910912  2021-08-03 18:57:49   \n",
       "1  1422702063025336321  1422702063025336321  2021-08-03 18:32:59   \n",
       "2  1422694251247374343  1422694251247374343  2021-08-03 18:01:56   \n",
       "3  1422660761797763073  1422660761797763073  2021-08-03 15:48:52   \n",
       "4  1422656015514939404  1422656015514939404  2021-08-03 15:30:00   \n",
       "5  1422631978554245124  1422631978554245124  2021-08-03 13:54:29   \n",
       "6  1422613028676177927  1422613028676177927  2021-08-03 12:39:11   \n",
       "7  1422587817453133824  1422587817453133824  2021-08-03 10:59:00   \n",
       "8  1422573712033910786  1422573712033910786  2021-08-03 10:02:57   \n",
       "9  1422550181166387201  1422550181166387201  2021-08-03 08:29:27   \n",
       "\n",
       "                                               tweet  nretweets  nlikes  \\\n",
       "0  Better roads and a faster, smoother, safer com...       1316    8485   \n",
       "1  This afternoon, the Vice President and I met w...       1396    9923   \n",
       "2  We’re doing everything we can to get more peop...       3329   27466   \n",
       "3  Right now, too many people are dying — or watc...       9646   60228   \n",
       "4  Tune in as I give an update on our progress to...        748    3791   \n",
       "5  It’s no secret that I love Amtrak. It’s one of...       2981   21345   \n",
       "6  This Black Women’s Equal Pay Day, we must reco...       2147   10191   \n",
       "7  Americans shouldn’t be losing hours of their l...       4611   50099   \n",
       "8  To the families of the 23 souls lost two years...       1542    8905   \n",
       "9  When the United States Capitol and our very de...       5575   43072   \n",
       "\n",
       "   nreplies  \n",
       "0      1067  \n",
       "1      1171  \n",
       "2      1768  \n",
       "3      3283  \n",
       "4       750  \n",
       "5      1433  \n",
       "6      1415  \n",
       "7      2446  \n",
       "8       574  \n",
       "9      1906  "
      ]
     },
     "execution_count": 4,
     "metadata": {},
     "output_type": "execute_result"
    }
   ],
   "source": [
    "# Create post Data Frame\n",
    "biden_posts = scrapper.search_user_posts(user, start_date, end_sate, False)\n",
    "biden_posts.head(10)"
   ]
  },
  {
   "cell_type": "code",
   "execution_count": 5,
   "id": "4714d1f5",
   "metadata": {},
   "outputs": [
    {
     "name": "stdout",
     "output_type": "stream",
     "text": [
      "[!] No more data! Scraping will stop now.\n",
      "found 0 deleted tweets in this search.\n"
     ]
    }
   ],
   "source": [
    "# Create replies Data Frame\n",
    "biden_replies = scrapper.search_replies_to(user, start_date, end_sate, False, \"\")"
   ]
  },
  {
   "cell_type": "code",
   "execution_count": 6,
   "id": "8b9835e4",
   "metadata": {},
   "outputs": [
    {
     "data": {
      "text/html": [
       "<div>\n",
       "<style scoped>\n",
       "    .dataframe tbody tr th:only-of-type {\n",
       "        vertical-align: middle;\n",
       "    }\n",
       "\n",
       "    .dataframe tbody tr th {\n",
       "        vertical-align: top;\n",
       "    }\n",
       "\n",
       "    .dataframe thead th {\n",
       "        text-align: right;\n",
       "    }\n",
       "</style>\n",
       "<table border=\"1\" class=\"dataframe\">\n",
       "  <thead>\n",
       "    <tr style=\"text-align: right;\">\n",
       "      <th></th>\n",
       "      <th>conversation_id</th>\n",
       "      <th>tweet</th>\n",
       "      <th>name</th>\n",
       "    </tr>\n",
       "  </thead>\n",
       "  <tbody>\n",
       "    <tr>\n",
       "      <th>0</th>\n",
       "      <td>1422708314991910912</td>\n",
       "      <td>@POTUS Bipartisan means in India 🇮🇳 servent wo...</td>\n",
       "      <td>Harsh Kumar</td>\n",
       "    </tr>\n",
       "    <tr>\n",
       "      <th>1</th>\n",
       "      <td>1422708314991910912</td>\n",
       "      <td>@POTUS Good ways and fast travel, smooth, secu...</td>\n",
       "      <td>Bad Biden Translations</td>\n",
       "    </tr>\n",
       "    <tr>\n",
       "      <th>2</th>\n",
       "      <td>1422708853054087174</td>\n",
       "      <td>@POTUS WHY ARE YOU ALLOWING UNVACCINATED MIGRA...</td>\n",
       "      <td>Lainey Marie</td>\n",
       "    </tr>\n",
       "    <tr>\n",
       "      <th>3</th>\n",
       "      <td>1422708314991910912</td>\n",
       "      <td>@POTUS Jamaica 🇯🇲 is that you?? 👀</td>\n",
       "      <td>MG11</td>\n",
       "    </tr>\n",
       "    <tr>\n",
       "      <th>4</th>\n",
       "      <td>1422708314991910912</td>\n",
       "      <td>@POTUS Please lift  #liftthetravelban  🙏🙏</td>\n",
       "      <td>sharon gannon. 🏳️‍🌈</td>\n",
       "    </tr>\n",
       "    <tr>\n",
       "      <th>5</th>\n",
       "      <td>1422659659555540992</td>\n",
       "      <td>@POTUS Global population: 7.8 billion.</td>\n",
       "      <td>Bo Laurent</td>\n",
       "    </tr>\n",
       "    <tr>\n",
       "      <th>6</th>\n",
       "      <td>1422708314991910912</td>\n",
       "      <td>@POTUS 👍🇺🇸</td>\n",
       "      <td>HARVEY</td>\n",
       "    </tr>\n",
       "    <tr>\n",
       "      <th>7</th>\n",
       "      <td>1422708314991910912</td>\n",
       "      <td>@POTUS It's done! Glory to God.</td>\n",
       "      <td>@ImbuhilaProf</td>\n",
       "    </tr>\n",
       "    <tr>\n",
       "      <th>8</th>\n",
       "      <td>1422708314991910912</td>\n",
       "      <td>@POTUS Please make sure that there are wildlif...</td>\n",
       "      <td>Alexander Smith</td>\n",
       "    </tr>\n",
       "    <tr>\n",
       "      <th>9</th>\n",
       "      <td>1422536863819120644</td>\n",
       "      <td>@POTUS Business Fact: people who say “you can’...</td>\n",
       "      <td>Paul Arrowood</td>\n",
       "    </tr>\n",
       "  </tbody>\n",
       "</table>\n",
       "</div>"
      ],
      "text/plain": [
       "       conversation_id                                              tweet  \\\n",
       "0  1422708314991910912  @POTUS Bipartisan means in India 🇮🇳 servent wo...   \n",
       "1  1422708314991910912  @POTUS Good ways and fast travel, smooth, secu...   \n",
       "2  1422708853054087174  @POTUS WHY ARE YOU ALLOWING UNVACCINATED MIGRA...   \n",
       "3  1422708314991910912                  @POTUS Jamaica 🇯🇲 is that you?? 👀   \n",
       "4  1422708314991910912          @POTUS Please lift  #liftthetravelban  🙏🙏   \n",
       "5  1422659659555540992             @POTUS Global population: 7.8 billion.   \n",
       "6  1422708314991910912                                         @POTUS 👍🇺🇸   \n",
       "7  1422708314991910912                    @POTUS It's done! Glory to God.   \n",
       "8  1422708314991910912  @POTUS Please make sure that there are wildlif...   \n",
       "9  1422536863819120644  @POTUS Business Fact: people who say “you can’...   \n",
       "\n",
       "                     name  \n",
       "0             Harsh Kumar  \n",
       "1  Bad Biden Translations  \n",
       "2            Lainey Marie  \n",
       "3                    MG11  \n",
       "4     sharon gannon. 🏳️‍🌈  \n",
       "5              Bo Laurent  \n",
       "6                  HARVEY  \n",
       "7           @ImbuhilaProf  \n",
       "8         Alexander Smith  \n",
       "9           Paul Arrowood  "
      ]
     },
     "execution_count": 6,
     "metadata": {},
     "output_type": "execute_result"
    }
   ],
   "source": [
    "biden_replies.head(10)"
   ]
  },
  {
   "cell_type": "code",
   "execution_count": 7,
   "id": "09b0207b",
   "metadata": {},
   "outputs": [
    {
     "name": "stdout",
     "output_type": "stream",
     "text": [
      "<class 'pandas.core.frame.DataFrame'>\n",
      "RangeIndex: 30211 entries, 0 to 30210\n",
      "Data columns (total 3 columns):\n",
      " #   Column           Non-Null Count  Dtype \n",
      "---  ------           --------------  ----- \n",
      " 0   conversation_id  30211 non-null  object\n",
      " 1   tweet            30211 non-null  object\n",
      " 2   name             30211 non-null  object\n",
      "dtypes: object(3)\n",
      "memory usage: 708.2+ KB\n"
     ]
    }
   ],
   "source": [
    "biden_replies.info()"
   ]
  },
  {
   "cell_type": "markdown",
   "id": "381d55c7",
   "metadata": {},
   "source": [
    "### The next step is to \"normalize\" the replies and posts Data Frame\n",
    "### We're going to do the sentiment analysis and count how many positive, negative and neutral comments are for each post\n",
    "### Also, we're going to try and guess as many people's gender as possible, since the library that is used is not completely accurate for Data Frames that containg a varity of people from different countries"
   ]
  },
  {
   "cell_type": "code",
   "execution_count": 8,
   "id": "e6e25678",
   "metadata": {},
   "outputs": [
    {
     "data": {
      "text/html": [
       "<div>\n",
       "<style scoped>\n",
       "    .dataframe tbody tr th:only-of-type {\n",
       "        vertical-align: middle;\n",
       "    }\n",
       "\n",
       "    .dataframe tbody tr th {\n",
       "        vertical-align: top;\n",
       "    }\n",
       "\n",
       "    .dataframe thead th {\n",
       "        text-align: right;\n",
       "    }\n",
       "</style>\n",
       "<table border=\"1\" class=\"dataframe\">\n",
       "  <thead>\n",
       "    <tr style=\"text-align: right;\">\n",
       "      <th></th>\n",
       "      <th>conversation_id</th>\n",
       "      <th>tweet</th>\n",
       "      <th>name</th>\n",
       "      <th>gender</th>\n",
       "      <th>sentiment</th>\n",
       "    </tr>\n",
       "  </thead>\n",
       "  <tbody>\n",
       "    <tr>\n",
       "      <th>0</th>\n",
       "      <td>1422708314991910912</td>\n",
       "      <td>Bipartisan means in India 🇮🇳 servent working ...</td>\n",
       "      <td>Harsh Kumar</td>\n",
       "      <td>unknown</td>\n",
       "      <td>Neutral</td>\n",
       "    </tr>\n",
       "    <tr>\n",
       "      <th>1</th>\n",
       "      <td>1422708314991910912</td>\n",
       "      <td>Good ways and fast travel, smooth, secure - t...</td>\n",
       "      <td>Bad Biden Translations</td>\n",
       "      <td>unknown</td>\n",
       "      <td>Positive</td>\n",
       "    </tr>\n",
       "    <tr>\n",
       "      <th>2</th>\n",
       "      <td>1422708853054087174</td>\n",
       "      <td>WHY ARE YOU ALLOWING UNVACCINATED MIGRANTS IN...</td>\n",
       "      <td>Lainey Marie</td>\n",
       "      <td>unknown</td>\n",
       "      <td>Positive</td>\n",
       "    </tr>\n",
       "    <tr>\n",
       "      <th>3</th>\n",
       "      <td>1422708314991910912</td>\n",
       "      <td>Jamaica 🇯🇲 is that you?? 👀</td>\n",
       "      <td>MG11</td>\n",
       "      <td>unknown</td>\n",
       "      <td>Neutral</td>\n",
       "    </tr>\n",
       "    <tr>\n",
       "      <th>4</th>\n",
       "      <td>1422708314991910912</td>\n",
       "      <td>Please lift    🙏🙏</td>\n",
       "      <td>sharon gannon. 🏳️‍🌈</td>\n",
       "      <td>unknown</td>\n",
       "      <td>Neutral</td>\n",
       "    </tr>\n",
       "    <tr>\n",
       "      <th>...</th>\n",
       "      <td>...</td>\n",
       "      <td>...</td>\n",
       "      <td>...</td>\n",
       "      <td>...</td>\n",
       "      <td>...</td>\n",
       "    </tr>\n",
       "    <tr>\n",
       "      <th>30206</th>\n",
       "      <td>1421621796810465291</td>\n",
       "      <td></td>\n",
       "      <td>Susan A Hanlon</td>\n",
       "      <td>female</td>\n",
       "      <td>Neutral</td>\n",
       "    </tr>\n",
       "    <tr>\n",
       "      <th>30207</th>\n",
       "      <td>1421571439405187076</td>\n",
       "      <td>Kabir is the Almighty God      The great men...</td>\n",
       "      <td>Khushbu Singh🏳️🇮🇳🇮🇳</td>\n",
       "      <td>unknown</td>\n",
       "      <td>Positive</td>\n",
       "    </tr>\n",
       "    <tr>\n",
       "      <th>30208</th>\n",
       "      <td>1420882077524844551</td>\n",
       "      <td>I have friends that received the shots and st...</td>\n",
       "      <td>John AMERICA</td>\n",
       "      <td>male</td>\n",
       "      <td>Neutral</td>\n",
       "    </tr>\n",
       "    <tr>\n",
       "      <th>30209</th>\n",
       "      <td>1421607861537447937</td>\n",
       "      <td>Dear President, please save Myanmar!</td>\n",
       "      <td>임백령-분단적폐당파양극타파</td>\n",
       "      <td>unknown</td>\n",
       "      <td>Neutral</td>\n",
       "    </tr>\n",
       "    <tr>\n",
       "      <th>30210</th>\n",
       "      <td>1421621703315271682</td>\n",
       "      <td>was caught off-guard on Friday and had to be ...</td>\n",
       "      <td>Yahoo Philippines</td>\n",
       "      <td>unknown</td>\n",
       "      <td>Neutral</td>\n",
       "    </tr>\n",
       "  </tbody>\n",
       "</table>\n",
       "<p>30211 rows × 5 columns</p>\n",
       "</div>"
      ],
      "text/plain": [
       "           conversation_id                                              tweet  \\\n",
       "0      1422708314991910912   Bipartisan means in India 🇮🇳 servent working ...   \n",
       "1      1422708314991910912   Good ways and fast travel, smooth, secure - t...   \n",
       "2      1422708853054087174   WHY ARE YOU ALLOWING UNVACCINATED MIGRANTS IN...   \n",
       "3      1422708314991910912                         Jamaica 🇯🇲 is that you?? 👀   \n",
       "4      1422708314991910912                                  Please lift    🙏🙏   \n",
       "...                    ...                                                ...   \n",
       "30206  1421621796810465291                                                      \n",
       "30207  1421571439405187076    Kabir is the Almighty God      The great men...   \n",
       "30208  1420882077524844551   I have friends that received the shots and st...   \n",
       "30209  1421607861537447937               Dear President, please save Myanmar!   \n",
       "30210  1421621703315271682   was caught off-guard on Friday and had to be ...   \n",
       "\n",
       "                         name   gender sentiment  \n",
       "0                 Harsh Kumar  unknown   Neutral  \n",
       "1      Bad Biden Translations  unknown  Positive  \n",
       "2                Lainey Marie  unknown  Positive  \n",
       "3                        MG11  unknown   Neutral  \n",
       "4         sharon gannon. 🏳️‍🌈  unknown   Neutral  \n",
       "...                       ...      ...       ...  \n",
       "30206          Susan A Hanlon   female   Neutral  \n",
       "30207     Khushbu Singh🏳️🇮🇳🇮🇳  unknown  Positive  \n",
       "30208            John AMERICA     male   Neutral  \n",
       "30209          임백령-분단적폐당파양극타파  unknown   Neutral  \n",
       "30210       Yahoo Philippines  unknown   Neutral  \n",
       "\n",
       "[30211 rows x 5 columns]"
      ]
     },
     "execution_count": 8,
     "metadata": {},
     "output_type": "execute_result"
    }
   ],
   "source": [
    "scrapper.clean_df_replies(biden_replies)\n",
    "biden_replies"
   ]
  },
  {
   "cell_type": "code",
   "execution_count": 9,
   "id": "e1d5f593",
   "metadata": {},
   "outputs": [
    {
     "data": {
      "text/html": [
       "<div>\n",
       "<style scoped>\n",
       "    .dataframe tbody tr th:only-of-type {\n",
       "        vertical-align: middle;\n",
       "    }\n",
       "\n",
       "    .dataframe tbody tr th {\n",
       "        vertical-align: top;\n",
       "    }\n",
       "\n",
       "    .dataframe thead th {\n",
       "        text-align: right;\n",
       "    }\n",
       "</style>\n",
       "<table border=\"1\" class=\"dataframe\">\n",
       "  <thead>\n",
       "    <tr style=\"text-align: right;\">\n",
       "      <th></th>\n",
       "      <th>id</th>\n",
       "      <th>conversation_id</th>\n",
       "      <th>date</th>\n",
       "      <th>tweet</th>\n",
       "      <th>nretweets</th>\n",
       "      <th>nlikes</th>\n",
       "      <th>nreplies</th>\n",
       "      <th>males_count</th>\n",
       "      <th>females_count</th>\n",
       "      <th>unknown_count</th>\n",
       "      <th>positives_com</th>\n",
       "      <th>negatives_com</th>\n",
       "      <th>neutral_com</th>\n",
       "      <th>coef_acceptation</th>\n",
       "    </tr>\n",
       "  </thead>\n",
       "  <tbody>\n",
       "    <tr>\n",
       "      <th>0</th>\n",
       "      <td>1422708314991910912</td>\n",
       "      <td>1422708314991910912</td>\n",
       "      <td>2021-08-03 18:57:49</td>\n",
       "      <td>Better roads and a faster, smoother, safer com...</td>\n",
       "      <td>1316</td>\n",
       "      <td>8485</td>\n",
       "      <td>1067</td>\n",
       "      <td>13</td>\n",
       "      <td>1</td>\n",
       "      <td>45</td>\n",
       "      <td>21</td>\n",
       "      <td>7</td>\n",
       "      <td>441</td>\n",
       "      <td>0.0</td>\n",
       "    </tr>\n",
       "    <tr>\n",
       "      <th>1</th>\n",
       "      <td>1422702063025336321</td>\n",
       "      <td>1422702063025336321</td>\n",
       "      <td>2021-08-03 18:32:59</td>\n",
       "      <td>This afternoon, the Vice President and I met w...</td>\n",
       "      <td>1396</td>\n",
       "      <td>9923</td>\n",
       "      <td>1171</td>\n",
       "      <td>44</td>\n",
       "      <td>8</td>\n",
       "      <td>106</td>\n",
       "      <td>52</td>\n",
       "      <td>19</td>\n",
       "      <td>441</td>\n",
       "      <td>0.0</td>\n",
       "    </tr>\n",
       "    <tr>\n",
       "      <th>2</th>\n",
       "      <td>1422694251247374343</td>\n",
       "      <td>1422694251247374343</td>\n",
       "      <td>2021-08-03 18:01:56</td>\n",
       "      <td>We’re doing everything we can to get more peop...</td>\n",
       "      <td>3329</td>\n",
       "      <td>27466</td>\n",
       "      <td>1768</td>\n",
       "      <td>78</td>\n",
       "      <td>54</td>\n",
       "      <td>206</td>\n",
       "      <td>117</td>\n",
       "      <td>42</td>\n",
       "      <td>441</td>\n",
       "      <td>0.0</td>\n",
       "    </tr>\n",
       "    <tr>\n",
       "      <th>3</th>\n",
       "      <td>1422660761797763073</td>\n",
       "      <td>1422660761797763073</td>\n",
       "      <td>2021-08-03 15:48:52</td>\n",
       "      <td>Right now, too many people are dying — or watc...</td>\n",
       "      <td>9646</td>\n",
       "      <td>60228</td>\n",
       "      <td>3283</td>\n",
       "      <td>251</td>\n",
       "      <td>130</td>\n",
       "      <td>515</td>\n",
       "      <td>262</td>\n",
       "      <td>183</td>\n",
       "      <td>441</td>\n",
       "      <td>0.0</td>\n",
       "    </tr>\n",
       "    <tr>\n",
       "      <th>4</th>\n",
       "      <td>1422656015514939404</td>\n",
       "      <td>1422656015514939404</td>\n",
       "      <td>2021-08-03 15:30:00</td>\n",
       "      <td>Tune in as I give an update on our progress to...</td>\n",
       "      <td>748</td>\n",
       "      <td>3791</td>\n",
       "      <td>750</td>\n",
       "      <td>58</td>\n",
       "      <td>37</td>\n",
       "      <td>133</td>\n",
       "      <td>65</td>\n",
       "      <td>46</td>\n",
       "      <td>441</td>\n",
       "      <td>0.0</td>\n",
       "    </tr>\n",
       "  </tbody>\n",
       "</table>\n",
       "</div>"
      ],
      "text/plain": [
       "                    id      conversation_id                date  \\\n",
       "0  1422708314991910912  1422708314991910912 2021-08-03 18:57:49   \n",
       "1  1422702063025336321  1422702063025336321 2021-08-03 18:32:59   \n",
       "2  1422694251247374343  1422694251247374343 2021-08-03 18:01:56   \n",
       "3  1422660761797763073  1422660761797763073 2021-08-03 15:48:52   \n",
       "4  1422656015514939404  1422656015514939404 2021-08-03 15:30:00   \n",
       "\n",
       "                                               tweet  nretweets  nlikes  \\\n",
       "0  Better roads and a faster, smoother, safer com...       1316    8485   \n",
       "1  This afternoon, the Vice President and I met w...       1396    9923   \n",
       "2  We’re doing everything we can to get more peop...       3329   27466   \n",
       "3  Right now, too many people are dying — or watc...       9646   60228   \n",
       "4  Tune in as I give an update on our progress to...        748    3791   \n",
       "\n",
       "   nreplies  males_count  females_count  unknown_count  positives_com  \\\n",
       "0      1067           13              1             45             21   \n",
       "1      1171           44              8            106             52   \n",
       "2      1768           78             54            206            117   \n",
       "3      3283          251            130            515            262   \n",
       "4       750           58             37            133             65   \n",
       "\n",
       "   negatives_com  neutral_com  coef_acceptation  \n",
       "0              7          441               0.0  \n",
       "1             19          441               0.0  \n",
       "2             42          441               0.0  \n",
       "3            183          441               0.0  \n",
       "4             46          441               0.0  "
      ]
     },
     "execution_count": 9,
     "metadata": {},
     "output_type": "execute_result"
    }
   ],
   "source": [
    "scrapper.clean_df_posts(biden_posts, biden_replies)\n",
    "biden_posts.head()"
   ]
  },
  {
   "cell_type": "markdown",
   "id": "23bf705b",
   "metadata": {},
   "source": [
    "## Next step is vizualise our data"
   ]
  },
  {
   "cell_type": "code",
   "execution_count": 10,
   "id": "3a370add",
   "metadata": {},
   "outputs": [],
   "source": [
    "# We're just going to plot how many Neutral, Positive and Negative comments are\n",
    "graphGenerator = GraphGenerator()"
   ]
  },
  {
   "cell_type": "code",
   "execution_count": 11,
   "id": "44674f92",
   "metadata": {},
   "outputs": [],
   "source": [
    "import pandas as pd"
   ]
  },
  {
   "cell_type": "code",
   "execution_count": 12,
   "id": "f4dcfe5a",
   "metadata": {},
   "outputs": [],
   "source": [
    "sentiment_comments = biden_replies['sentiment'].value_counts()"
   ]
  },
  {
   "cell_type": "code",
   "execution_count": 13,
   "id": "fa33ab6b",
   "metadata": {},
   "outputs": [
    {
     "data": {
      "image/png": "[encoded data removed]",
      "text/plain": [
       "<Figure size 1440x720 with 1 Axes>"
      ]
     },
     "metadata": {
      "needs_background": "light"
     },
     "output_type": "display_data"
    }
   ],
   "source": [
    "graphGenerator.create_graph_bar(sentiment_comments.index, sentiment_comments.values, \"Type of comments and quantities\", \"Type of comments\", \"Number of comments\")"
   ]
  },
  {
   "cell_type": "code",
   "execution_count": 14,
   "id": "42e45417",
   "metadata": {},
   "outputs": [],
   "source": [
    "# Now we are going to see wich are the most frequent words in the comments\n",
    "nlp_processor = NLP('english')"
   ]
  },
  {
   "cell_type": "code",
   "execution_count": 17,
   "id": "2ac6790d",
   "metadata": {},
   "outputs": [
    {
     "data": {
      "text/plain": [
       "FreqDist({'map': 261, 'wrong': 245, 'vaccin': 146, 'get': 141, 'peopl': 125, 'morocco': 100, 'presid': 79, 'us': 63, 'crimea': 61, 'kosovo': 60, ...})"
      ]
     },
     "execution_count": 17,
     "metadata": {},
     "output_type": "execute_result"
    }
   ],
   "source": [
    "words_frequency = nlp_processor.get_top_frequecy_dictionary(biden_replies, 1000)\n",
    "words_frequency"
   ]
  },
  {
   "cell_type": "code",
   "execution_count": 18,
   "id": "557ac221",
   "metadata": {},
   "outputs": [
    {
     "data": {
      "image/png": "[encoded data removed]",
      "text/plain": [
       "<Figure size 432x288 with 1 Axes>"
      ]
     },
     "metadata": {
      "needs_background": "light"
     },
     "output_type": "display_data"
    },
    {
     "data": {
      "text/plain": [
       "<AxesSubplot:xlabel='Samples', ylabel='Counts'>"
      ]
     },
     "execution_count": 18,
     "metadata": {},
     "output_type": "execute_result"
    }
   ],
   "source": [
    "words_frequency.plot(20)"
   ]
  },
  {
   "cell_type": "code",
   "execution_count": 19,
   "id": "e59435e0",
   "metadata": {},
   "outputs": [],
   "source": [
    "top_org = nlp_processor.get_most_mentioned_organizations(5, 1000, biden_replies)"
   ]
  },
  {
   "cell_type": "code",
   "execution_count": 20,
   "id": "717c7bb1",
   "metadata": {},
   "outputs": [
    {
     "data": {
      "image/png": "[encoded data removed]",
      "text/plain": [
       "<Figure size 1440x720 with 1 Axes>"
      ]
     },
     "metadata": {
      "needs_background": "light"
     },
     "output_type": "display_data"
    }
   ],
   "source": [
    "# Plot most mentioned organizations\n",
    "graphGenerator.create_graph_bar(top_org.index, top_org.values, \"Most mentioned organtizations\", \"Organization\", \"Number of times mentioned\")"
   ]
  },
  {
   "cell_type": "code",
   "execution_count": 21,
   "id": "b8eae4ef",
   "metadata": {},
   "outputs": [],
   "source": [
    "# Now we're going to do the same analysis, but for the Posts Data Frame\n",
    "words_frequency_posts = nlp_processor.get_top_frequecy_dictionary(biden_posts, 1000)"
   ]
  },
  {
   "cell_type": "code",
   "execution_count": 22,
   "id": "e871bbcb",
   "metadata": {},
   "outputs": [
    {
     "data": {
      "image/png": "[encoded data removed]",
      "text/plain": [
       "<Figure size 432x288 with 1 Axes>"
      ]
     },
     "metadata": {
      "needs_background": "light"
     },
     "output_type": "display_data"
    },
    {
     "data": {
      "text/plain": [
       "<AxesSubplot:xlabel='Samples', ylabel='Counts'>"
      ]
     },
     "execution_count": 22,
     "metadata": {},
     "output_type": "execute_result"
    }
   ],
   "source": [
    "words_frequency_posts.plot(20)"
   ]
  },
  {
   "cell_type": "code",
   "execution_count": 27,
   "id": "fa008fa2",
   "metadata": {},
   "outputs": [],
   "source": [
    "top_org_posts = nlp_processor.get_most_mentioned_organizations(5, 5, biden_posts)"
   ]
  },
  {
   "cell_type": "code",
   "execution_count": 26,
   "id": "542b32b9",
   "metadata": {},
   "outputs": [
    {
     "data": {
      "image/png": "[encoded data removed]",
      "text/plain": [
       "<Figure size 1440x720 with 1 Axes>"
      ]
     },
     "metadata": {
      "needs_background": "light"
     },
     "output_type": "display_data"
    }
   ],
   "source": [
    "graphGenerator.create_graph_bar(top_org_posts.index, top_org_posts.values, \"Most mentioned organtizations\", \"Organization\", \"Number of times mentioned\")"
   ]
  },
  {
   "cell_type": "markdown",
   "id": "26afa990",
   "metadata": {},
   "source": [
    "## Finally let's compare data from two different users that that work on the same thing"
   ]
  },
  {
   "cell_type": "code",
   "execution_count": 35,
   "id": "55a31881",
   "metadata": {},
   "outputs": [],
   "source": [
    "user1 = \"taylorswift13\"\n",
    "user2 = \"ArianaGrande\"\n",
    "start_date = \"2021-07-01\"\n",
    "end_date = \"2021-07-10\""
   ]
  },
  {
   "cell_type": "markdown",
   "id": "9cd6821b",
   "metadata": {},
   "source": [
    "### First let's fetch both replies and posts Data Frames"
   ]
  },
  {
   "cell_type": "code",
   "execution_count": 36,
   "id": "266be7aa",
   "metadata": {},
   "outputs": [
    {
     "name": "stdout",
     "output_type": "stream",
     "text": [
      "[!] No more data! Scraping will stop now.\n",
      "found 0 deleted tweets in this search.\n"
     ]
    },
    {
     "data": {
      "text/html": [
       "<div>\n",
       "<style scoped>\n",
       "    .dataframe tbody tr th:only-of-type {\n",
       "        vertical-align: middle;\n",
       "    }\n",
       "\n",
       "    .dataframe tbody tr th {\n",
       "        vertical-align: top;\n",
       "    }\n",
       "\n",
       "    .dataframe thead th {\n",
       "        text-align: right;\n",
       "    }\n",
       "</style>\n",
       "<table border=\"1\" class=\"dataframe\">\n",
       "  <thead>\n",
       "    <tr style=\"text-align: right;\">\n",
       "      <th></th>\n",
       "      <th>id</th>\n",
       "      <th>conversation_id</th>\n",
       "      <th>date</th>\n",
       "      <th>tweet</th>\n",
       "      <th>nretweets</th>\n",
       "      <th>nlikes</th>\n",
       "      <th>nreplies</th>\n",
       "    </tr>\n",
       "  </thead>\n",
       "  <tbody>\n",
       "    <tr>\n",
       "      <th>0</th>\n",
       "      <td>1411038296071827462</td>\n",
       "      <td>1411038296071827462</td>\n",
       "      <td>2021-07-02 14:05:20</td>\n",
       "      <td>You wouldn’t be the first renegade to need som...</td>\n",
       "      <td>28464</td>\n",
       "      <td>189899</td>\n",
       "      <td>7608</td>\n",
       "    </tr>\n",
       "    <tr>\n",
       "      <th>1</th>\n",
       "      <td>1410813373307105281</td>\n",
       "      <td>1410813373307105281</td>\n",
       "      <td>2021-07-01 23:11:34</td>\n",
       "      <td>When @Aaron_Dessner came into my life, I was u...</td>\n",
       "      <td>40795</td>\n",
       "      <td>187704</td>\n",
       "      <td>10698</td>\n",
       "    </tr>\n",
       "  </tbody>\n",
       "</table>\n",
       "</div>"
      ],
      "text/plain": [
       "                    id      conversation_id                 date  \\\n",
       "0  1411038296071827462  1411038296071827462  2021-07-02 14:05:20   \n",
       "1  1410813373307105281  1410813373307105281  2021-07-01 23:11:34   \n",
       "\n",
       "                                               tweet  nretweets  nlikes  \\\n",
       "0  You wouldn’t be the first renegade to need som...      28464  189899   \n",
       "1  When @Aaron_Dessner came into my life, I was u...      40795  187704   \n",
       "\n",
       "   nreplies  \n",
       "0      7608  \n",
       "1     10698  "
      ]
     },
     "execution_count": 36,
     "metadata": {},
     "output_type": "execute_result"
    }
   ],
   "source": [
    "taylor_posts = scrapper.search_user_posts(user1, start_date, end_date, False)\n",
    "taylor_posts.head()"
   ]
  },
  {
   "cell_type": "code",
   "execution_count": 37,
   "id": "8710fed0",
   "metadata": {},
   "outputs": [
    {
     "name": "stdout",
     "output_type": "stream",
     "text": [
      "[!] No more data! Scraping will stop now.\n",
      "found 0 deleted tweets in this search.\n"
     ]
    },
    {
     "data": {
      "text/html": [
       "<div>\n",
       "<style scoped>\n",
       "    .dataframe tbody tr th:only-of-type {\n",
       "        vertical-align: middle;\n",
       "    }\n",
       "\n",
       "    .dataframe tbody tr th {\n",
       "        vertical-align: top;\n",
       "    }\n",
       "\n",
       "    .dataframe thead th {\n",
       "        text-align: right;\n",
       "    }\n",
       "</style>\n",
       "<table border=\"1\" class=\"dataframe\">\n",
       "  <thead>\n",
       "    <tr style=\"text-align: right;\">\n",
       "      <th></th>\n",
       "      <th>id</th>\n",
       "      <th>conversation_id</th>\n",
       "      <th>date</th>\n",
       "      <th>tweet</th>\n",
       "      <th>nretweets</th>\n",
       "      <th>nlikes</th>\n",
       "      <th>nreplies</th>\n",
       "    </tr>\n",
       "  </thead>\n",
       "  <tbody>\n",
       "    <tr>\n",
       "      <th>0</th>\n",
       "      <td>1413140961123737623</td>\n",
       "      <td>1413140961123737623</td>\n",
       "      <td>2021-07-08 09:20:34</td>\n",
       "      <td>🤍🖼🪴🧚🏼‍♂️</td>\n",
       "      <td>15121</td>\n",
       "      <td>187298</td>\n",
       "      <td>5667</td>\n",
       "    </tr>\n",
       "    <tr>\n",
       "      <th>1</th>\n",
       "      <td>1412804001691697164</td>\n",
       "      <td>1412804001691697164</td>\n",
       "      <td>2021-07-07 11:01:37</td>\n",
       "      <td>safety net performance / live music video out ...</td>\n",
       "      <td>25076</td>\n",
       "      <td>105568</td>\n",
       "      <td>6294</td>\n",
       "    </tr>\n",
       "    <tr>\n",
       "      <th>2</th>\n",
       "      <td>1412803504855453700</td>\n",
       "      <td>1412803504855453700</td>\n",
       "      <td>2021-07-07 10:59:38</td>\n",
       "      <td>trippin falllinnnnn</td>\n",
       "      <td>30367</td>\n",
       "      <td>293913</td>\n",
       "      <td>10840</td>\n",
       "    </tr>\n",
       "    <tr>\n",
       "      <th>3</th>\n",
       "      <td>1412803402371829766</td>\n",
       "      <td>1412803402371829766</td>\n",
       "      <td>2021-07-07 10:59:14</td>\n",
       "      <td>1 min</td>\n",
       "      <td>6285</td>\n",
       "      <td>86358</td>\n",
       "      <td>3878</td>\n",
       "    </tr>\n",
       "    <tr>\n",
       "      <th>4</th>\n",
       "      <td>1412441250070876160</td>\n",
       "      <td>1412441250070876160</td>\n",
       "      <td>2021-07-06 11:00:10</td>\n",
       "      <td>safety net tomorrow @vevo @tydollasign 🤍  http...</td>\n",
       "      <td>36853</td>\n",
       "      <td>273890</td>\n",
       "      <td>14438</td>\n",
       "    </tr>\n",
       "    <tr>\n",
       "      <th>5</th>\n",
       "      <td>1412078865497817095</td>\n",
       "      <td>1412078865497817095</td>\n",
       "      <td>2021-07-05 11:00:11</td>\n",
       "      <td>which song do you think is next @vevo?  https:...</td>\n",
       "      <td>26854</td>\n",
       "      <td>328997</td>\n",
       "      <td>22589</td>\n",
       "    </tr>\n",
       "    <tr>\n",
       "      <th>6</th>\n",
       "      <td>1410663591292719108</td>\n",
       "      <td>1410663591292719108</td>\n",
       "      <td>2021-07-01 13:16:23</td>\n",
       "      <td>thank you @betterhelp 🤍</td>\n",
       "      <td>5912</td>\n",
       "      <td>70717</td>\n",
       "      <td>3784</td>\n",
       "    </tr>\n",
       "  </tbody>\n",
       "</table>\n",
       "</div>"
      ],
      "text/plain": [
       "                    id      conversation_id                 date  \\\n",
       "0  1413140961123737623  1413140961123737623  2021-07-08 09:20:34   \n",
       "1  1412804001691697164  1412804001691697164  2021-07-07 11:01:37   \n",
       "2  1412803504855453700  1412803504855453700  2021-07-07 10:59:38   \n",
       "3  1412803402371829766  1412803402371829766  2021-07-07 10:59:14   \n",
       "4  1412441250070876160  1412441250070876160  2021-07-06 11:00:10   \n",
       "5  1412078865497817095  1412078865497817095  2021-07-05 11:00:11   \n",
       "6  1410663591292719108  1410663591292719108  2021-07-01 13:16:23   \n",
       "\n",
       "                                               tweet  nretweets  nlikes  \\\n",
       "0                                           🤍🖼🪴🧚🏼‍♂️      15121  187298   \n",
       "1  safety net performance / live music video out ...      25076  105568   \n",
       "2                                trippin falllinnnnn      30367  293913   \n",
       "3                                              1 min       6285   86358   \n",
       "4  safety net tomorrow @vevo @tydollasign 🤍  http...      36853  273890   \n",
       "5  which song do you think is next @vevo?  https:...      26854  328997   \n",
       "6                            thank you @betterhelp 🤍       5912   70717   \n",
       "\n",
       "   nreplies  \n",
       "0      5667  \n",
       "1      6294  \n",
       "2     10840  \n",
       "3      3878  \n",
       "4     14438  \n",
       "5     22589  \n",
       "6      3784  "
      ]
     },
     "execution_count": 37,
     "metadata": {},
     "output_type": "execute_result"
    }
   ],
   "source": [
    "ariana_posts = scrapper.search_user_posts(user2, start_date, end_date, False)\n",
    "ariana_posts"
   ]
  },
  {
   "cell_type": "code",
   "execution_count": 38,
   "id": "f042a3e5",
   "metadata": {},
   "outputs": [
    {
     "name": "stdout",
     "output_type": "stream",
     "text": [
      "[!] No more data! Scraping will stop now.\n",
      "found 0 deleted tweets in this search.\n"
     ]
    }
   ],
   "source": [
    "taylor_replies = scrapper.search_replies_to(user1, start_date, end_date, False, \"\")"
   ]
  },
  {
   "cell_type": "code",
   "execution_count": 39,
   "id": "e805f2aa",
   "metadata": {},
   "outputs": [
    {
     "name": "stdout",
     "output_type": "stream",
     "text": [
      "[!] No more data! Scraping will stop now.\n",
      "found 0 deleted tweets in this search.\n"
     ]
    }
   ],
   "source": [
    "ariana_replies = scrapper.search_replies_to(user2, start_date, end_date, False, \"\")"
   ]
  },
  {
   "cell_type": "code",
   "execution_count": 40,
   "id": "526e6863",
   "metadata": {},
   "outputs": [
    {
     "name": "stdout",
     "output_type": "stream",
     "text": [
      "<class 'pandas.core.frame.DataFrame'>\n",
      "RangeIndex: 14602 entries, 0 to 14601\n",
      "Data columns (total 3 columns):\n",
      " #   Column           Non-Null Count  Dtype \n",
      "---  ------           --------------  ----- \n",
      " 0   conversation_id  14602 non-null  object\n",
      " 1   tweet            14602 non-null  object\n",
      " 2   name             14602 non-null  object\n",
      "dtypes: object(3)\n",
      "memory usage: 342.4+ KB\n"
     ]
    }
   ],
   "source": [
    "taylor_replies.info()"
   ]
  },
  {
   "cell_type": "code",
   "execution_count": 41,
   "id": "31ef8384",
   "metadata": {},
   "outputs": [
    {
     "name": "stdout",
     "output_type": "stream",
     "text": [
      "<class 'pandas.core.frame.DataFrame'>\n",
      "RangeIndex: 63704 entries, 0 to 63703\n",
      "Data columns (total 3 columns):\n",
      " #   Column           Non-Null Count  Dtype \n",
      "---  ------           --------------  ----- \n",
      " 0   conversation_id  63704 non-null  object\n",
      " 1   tweet            63704 non-null  object\n",
      " 2   name             63704 non-null  object\n",
      "dtypes: object(3)\n",
      "memory usage: 1.5+ MB\n"
     ]
    }
   ],
   "source": [
    "ariana_replies.info()"
   ]
  },
  {
   "cell_type": "markdown",
   "id": "7a9724bd",
   "metadata": {},
   "source": [
    "### We can see that since Ariana posted a lot more, she has more replies than Taylor"
   ]
  },
  {
   "cell_type": "markdown",
   "id": "6a068b34",
   "metadata": {},
   "source": [
    "#### Now we normalize every Data Frame"
   ]
  },
  {
   "cell_type": "code",
   "execution_count": 42,
   "id": "16906437",
   "metadata": {},
   "outputs": [],
   "source": [
    "scrapper.clean_df_replies(taylor_replies)\n",
    "scrapper.clean_df_replies(ariana_replies)\n",
    "scrapper.clean_df_posts(taylor_posts, taylor_replies)\n",
    "scrapper.clean_df_posts(ariana_posts, ariana_replies)"
   ]
  },
  {
   "cell_type": "markdown",
   "id": "b74f312c",
   "metadata": {},
   "source": [
    "## Next we do the sentiment analysis and compare it"
   ]
  },
  {
   "cell_type": "code",
   "execution_count": 44,
   "id": "5fac35f3",
   "metadata": {},
   "outputs": [
    {
     "data": {
      "image/png": "[encoded data removed]",
      "text/plain": [
       "<Figure size 1440x720 with 1 Axes>"
      ]
     },
     "metadata": {
      "needs_background": "light"
     },
     "output_type": "display_data"
    },
    {
     "data": {
      "image/png": "[encoded data removed]",
      "text/plain": [
       "<Figure size 1440x720 with 1 Axes>"
      ]
     },
     "metadata": {
      "needs_background": "light"
     },
     "output_type": "display_data"
    }
   ],
   "source": [
    "sentiment_comments_taylor = taylor_replies['sentiment'].value_counts()\n",
    "sentiment_comments_ariana = ariana_replies['sentiment'].value_counts()\n",
    "\n",
    "graphGenerator.create_graph_bar(sentiment_comments_taylor.index, sentiment_comments_taylor.values, \"Taylor Swift: Type of comments and quantities\", \"Type of comments\", \"Number of comments\")\n",
    "graphGenerator.create_graph_bar(sentiment_comments_ariana.index, sentiment_comments_ariana.values, \"Ariana Grande: Type of comments and quantities\", \"Type of comments\", \"Number of comments\")"
   ]
  },
  {
   "cell_type": "markdown",
   "id": "4a8a62cb",
   "metadata": {},
   "source": [
    "### We can see that both have mostly positive and neutral comments, it is what is desired since Taylor and Ariana are such famous singers"
   ]
  },
  {
   "cell_type": "markdown",
   "id": "0f658358",
   "metadata": {},
   "source": [
    "## Finally let's look at the  most frequent words and the organizations more mentioned"
   ]
  },
  {
   "cell_type": "code",
   "execution_count": 45,
   "id": "7bc3d4e3",
   "metadata": {},
   "outputs": [
    {
     "data": {
      "image/png": "[encoded data removed]",
      "text/plain": [
       "<Figure size 432x288 with 1 Axes>"
      ]
     },
     "metadata": {
      "needs_background": "light"
     },
     "output_type": "display_data"
    },
    {
     "data": {
      "text/plain": [
       "<AxesSubplot:xlabel='Samples', ylabel='Counts'>"
      ]
     },
     "execution_count": 45,
     "metadata": {},
     "output_type": "execute_result"
    }
   ],
   "source": [
    "words_frequency_taylor_replies = nlp_processor.get_top_frequecy_dictionary(taylor_replies, 2000)\n",
    "words_frequency_taylor_replies.plot(20)"
   ]
  },
  {
   "cell_type": "code",
   "execution_count": 46,
   "id": "9d070fee",
   "metadata": {},
   "outputs": [
    {
     "data": {
      "image/png": "[encoded data removed]",
      "text/plain": [
       "<Figure size 432x288 with 1 Axes>"
      ]
     },
     "metadata": {
      "needs_background": "light"
     },
     "output_type": "display_data"
    },
    {
     "data": {
      "text/plain": [
       "<AxesSubplot:xlabel='Samples', ylabel='Counts'>"
      ]
     },
     "execution_count": 46,
     "metadata": {},
     "output_type": "execute_result"
    }
   ],
   "source": [
    "words_frequency_ariana_replies = nlp_processor.get_top_frequecy_dictionary(ariana_replies, 2000)\n",
    "words_frequency_ariana_replies.plot(20)"
   ]
  },
  {
   "cell_type": "markdown",
   "id": "b8877939",
   "metadata": {},
   "source": [
    "## We can see that for both, there are just positive words"
   ]
  },
  {
   "cell_type": "code",
   "execution_count": 47,
   "id": "99c7183d",
   "metadata": {},
   "outputs": [
    {
     "data": {
      "image/png": "[encoded data removed]",
      "text/plain": [
       "<Figure size 1440x720 with 1 Axes>"
      ]
     },
     "metadata": {
      "needs_background": "light"
     },
     "output_type": "display_data"
    }
   ],
   "source": [
    "top_org_taylor_replies = nlp_processor.get_most_mentioned_organizations(10, 2000, taylor_replies)\n",
    "graphGenerator.create_graph_bar(top_org_taylor_replies.index, top_org_taylor_replies.values, \"Taylor Swift: Most mentioned organtizations\", \"Organization\", \"Number of times mentioned\")"
   ]
  },
  {
   "cell_type": "code",
   "execution_count": 49,
   "id": "9e5808ac",
   "metadata": {},
   "outputs": [
    {
     "data": {
      "image/png": "[encoded data removed]",
      "text/plain": [
       "<Figure size 1440x720 with 1 Axes>"
      ]
     },
     "metadata": {
      "needs_background": "light"
     },
     "output_type": "display_data"
    }
   ],
   "source": [
    "top_org_ariana_replies = nlp_processor.get_most_mentioned_organizations(10, 2000, ariana_replies)\n",
    "graphGenerator.create_graph_bar(top_org_ariana_replies.index, top_org_ariana_replies.values, \"Ariana Grande: Most mentioned organtizations\", \"Organization\", \"Number of times mentioned\")"
   ]
  },
  {
   "cell_type": "code",
   "execution_count": null,
   "id": "bbb11c71",
   "metadata": {},
   "outputs": [],
   "source": []
  }
 ],
 "metadata": {
  "kernelspec": {
   "display_name": "Python 3",
   "language": "python",
   "name": "python3"
  },
  "language_info": {
   "codemirror_mode": {
    "name": "ipython",
    "version": 3
   },
   "file_extension": ".py",
   "mimetype": "text/x-python",
   "name": "python",
   "nbconvert_exporter": "python",
   "pygments_lexer": "ipython3",
   "version": "3.8.10"
  }
 },
 "nbformat": 4,
 "nbformat_minor": 5
}
